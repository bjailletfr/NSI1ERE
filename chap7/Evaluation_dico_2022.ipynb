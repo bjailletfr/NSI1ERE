{
 "cells": [
  {
   "cell_type": "markdown",
   "id": "012060d0-275b-42c5-8fef-a51b2638e0d2",
   "metadata": {},
   "source": [
    "# Correction de l'évaluation sur les dictionnaires : partie théorique"
   ]
  },
  {
   "cell_type": "markdown",
   "id": "5021f02b-754f-4e37-83e8-a9f5c04ceb50",
   "metadata": {
    "tags": []
   },
   "source": [
    "1) Quelle instruction permet de créer un dictionnaire vide nommé dico ?"
   ]
  },
  {
   "cell_type": "code",
   "execution_count": 3,
   "id": "d956f67f-3295-4d07-b982-10855ffd639b",
   "metadata": {},
   "outputs": [],
   "source": [
    "dico={}"
   ]
  },
  {
   "cell_type": "markdown",
   "id": "41c71aea-55f3-4052-ae89-ac3d179acc78",
   "metadata": {},
   "source": [
    "2) Quelle instruction permet d’ajouter la définition ‘élément d’information valant 1 ou 0’ du mot ‘bit’ dans dico sachant que ‘bit’ est choisi comme clé ?"
   ]
  },
  {
   "cell_type": "code",
   "execution_count": 4,
   "id": "5c4f9db2-c2bd-4c0c-ba6d-3fd5f050589c",
   "metadata": {},
   "outputs": [],
   "source": [
    "dico['bit']=\"element d'information valant 1 ou 0\""
   ]
  },
  {
   "cell_type": "markdown",
   "id": "2049be35-aade-447c-a3d7-9428cac423e5",
   "metadata": {},
   "source": [
    "On ajoute également deux autres définitions dans le dictionnaire dico :\n",
    "- Le mot ‘RAM’ dont la définition est ‘mémoire vive’,\n",
    "- Et le mot ‘ROM’ dont la définition est ‘mémoire morte’."
   ]
  },
  {
   "cell_type": "code",
   "execution_count": 6,
   "id": "318f0491-c587-4654-acfa-bd7261c1eca1",
   "metadata": {},
   "outputs": [
    {
     "name": "stdout",
     "output_type": "stream",
     "text": [
      "{'bit': \"element d'information valant 1 ou 0\", 'RAM': 'mémoire vive', 'ROM': 'mémoire morte'}\n"
     ]
    }
   ],
   "source": [
    "dico['RAM']=\"mémoire vive\"\n",
    "dico['ROM']=\"mémoire morte\"\n",
    "print(dico)"
   ]
  },
  {
   "cell_type": "markdown",
   "id": "fec2d530-c6e6-487b-9ce2-e784469476e2",
   "metadata": {},
   "source": [
    "3) Que renvoie l’instruction dico[0] ?"
   ]
  },
  {
   "cell_type": "code",
   "execution_count": 7,
   "id": "02700165-c5bf-4ebe-ab33-b55b3c9e4220",
   "metadata": {},
   "outputs": [
    {
     "ename": "KeyError",
     "evalue": "0",
     "output_type": "error",
     "traceback": [
      "\u001b[1;31m---------------------------------------------------------------------------\u001b[0m",
      "\u001b[1;31mKeyError\u001b[0m                                  Traceback (most recent call last)",
      "\u001b[1;32m~\\AppData\\Local\\Temp/ipykernel_49660/2652124059.py\u001b[0m in \u001b[0;36m<module>\u001b[1;34m\u001b[0m\n\u001b[1;32m----> 1\u001b[1;33m \u001b[0mdico\u001b[0m\u001b[1;33m[\u001b[0m\u001b[1;36m0\u001b[0m\u001b[1;33m]\u001b[0m\u001b[1;33m\u001b[0m\u001b[1;33m\u001b[0m\u001b[0m\n\u001b[0m",
      "\u001b[1;31mKeyError\u001b[0m: 0"
     ]
    }
   ],
   "source": [
    "dico[0]"
   ]
  },
  {
   "cell_type": "markdown",
   "id": "c908620c-4fce-4dd6-bc7a-d4eb23a2f4a7",
   "metadata": {},
   "source": [
    "4) Par quelle instruction accède-t-on à la définition du mot ‘RAM’ ?"
   ]
  },
  {
   "cell_type": "code",
   "execution_count": 8,
   "id": "40162b65-a4a2-4228-a9e6-624a2bd664f7",
   "metadata": {},
   "outputs": [
    {
     "data": {
      "text/plain": [
       "'mémoire vive'"
      ]
     },
     "execution_count": 8,
     "metadata": {},
     "output_type": "execute_result"
    }
   ],
   "source": [
    "dico['RAM']"
   ]
  },
  {
   "cell_type": "markdown",
   "id": "7f0baaa3-71dc-4803-8bb5-44b18051376f",
   "metadata": {},
   "source": [
    "5) On veut modifier la définition du mot ‘RAM’ dans le dictionnaire dico en la remplaçant par ‘mémoire vive et à court terme de l’ordinateur’. Quelle instruction permet d’effectuer cette modification ?"
   ]
  },
  {
   "cell_type": "code",
   "execution_count": 9,
   "id": "aa016963-4100-4e7f-bc14-d57db5ea40d5",
   "metadata": {},
   "outputs": [],
   "source": [
    "dico['RAM']=\"mémoire vive et à court terme de l'ordinateur\""
   ]
  },
  {
   "cell_type": "markdown",
   "id": "78a67017-1b75-4f4d-9e4e-de9d28e2bc93",
   "metadata": {},
   "source": [
    "6) Compléter le tableau :"
   ]
  },
  {
   "cell_type": "markdown",
   "id": "c38bb1f1-313b-4946-822f-1ca68bd9901c",
   "metadata": {},
   "source": [
    "- Tous les éléments du dictionnaire, clés et valeurs."
   ]
  },
  {
   "cell_type": "code",
   "execution_count": 10,
   "id": "095c614b-69e5-4dea-861e-0cecb0eb7ba3",
   "metadata": {},
   "outputs": [
    {
     "data": {
      "text/plain": [
       "dict_items([('bit', \"element d'information valant 1 ou 0\"), ('RAM', \"mémoire vive et à court terme de l'ordinateur\"), ('ROM', 'mémoire morte')])"
      ]
     },
     "execution_count": 10,
     "metadata": {},
     "output_type": "execute_result"
    }
   ],
   "source": [
    "dico.items()"
   ]
  },
  {
   "cell_type": "markdown",
   "id": "5ef66070-8fd2-4c22-94d4-18968dfd82a6",
   "metadata": {},
   "source": [
    "- dico.keys()"
   ]
  },
  {
   "cell_type": "code",
   "execution_count": 11,
   "id": "388a7182-2495-4a8c-b191-1da8ea08524b",
   "metadata": {},
   "outputs": [
    {
     "data": {
      "text/plain": [
       "dict_keys(['bit', 'RAM', 'ROM'])"
      ]
     },
     "execution_count": 11,
     "metadata": {},
     "output_type": "execute_result"
    }
   ],
   "source": [
    "dico.keys()"
   ]
  },
  {
   "cell_type": "markdown",
   "id": "9f1c0067-f4a7-482f-94d3-8d12f9f5c3fa",
   "metadata": {},
   "source": [
    "- Une représentation des valeurs du dictionnaire"
   ]
  },
  {
   "cell_type": "code",
   "execution_count": 12,
   "id": "1346bfa8-bfd2-4b3e-badf-680654790d70",
   "metadata": {},
   "outputs": [
    {
     "data": {
      "text/plain": [
       "dict_values([\"element d'information valant 1 ou 0\", \"mémoire vive et à court terme de l'ordinateur\", 'mémoire morte'])"
      ]
     },
     "execution_count": 12,
     "metadata": {},
     "output_type": "execute_result"
    }
   ],
   "source": [
    "dico.values()"
   ]
  },
  {
   "cell_type": "markdown",
   "id": "4fce84cc-42b5-4d5d-a608-ea62ddd01683",
   "metadata": {},
   "source": [
    "- Le nombre d’entrées (clé/valeur) du dictionnaire."
   ]
  },
  {
   "cell_type": "code",
   "execution_count": 13,
   "id": "0748f19d-1ec2-44ca-8235-04f571fae4d5",
   "metadata": {},
   "outputs": [
    {
     "data": {
      "text/plain": [
       "3"
      ]
     },
     "execution_count": 13,
     "metadata": {},
     "output_type": "execute_result"
    }
   ],
   "source": [
    "len(dico)"
   ]
  },
  {
   "cell_type": "markdown",
   "id": "026612bc-276d-49b3-aec3-0436a6c5adcc",
   "metadata": {},
   "source": [
    "7) Ecrire un fonction recherche(d, mot) qui prend un dictionnaire d en paramètre et qui renvoie True si le mot recherché est présent dans d, False sinon."
   ]
  },
  {
   "cell_type": "code",
   "execution_count": 14,
   "id": "3fb16d38-2960-4955-8361-bb13dcd2f85c",
   "metadata": {},
   "outputs": [],
   "source": [
    "def recherche(d,mot):\n",
    "    if mot in d:\n",
    "        return True\n",
    "    return False"
   ]
  },
  {
   "cell_type": "code",
   "execution_count": 15,
   "id": "d9889ce1-9229-48fc-ac3f-e026b26dc5b3",
   "metadata": {},
   "outputs": [
    {
     "data": {
      "text/plain": [
       "True"
      ]
     },
     "execution_count": 15,
     "metadata": {},
     "output_type": "execute_result"
    }
   ],
   "source": [
    "recherche(dico, 'RAM')"
   ]
  },
  {
   "cell_type": "code",
   "execution_count": 16,
   "id": "d3f88666-249f-4a1a-bd21-84a4bcbfda2a",
   "metadata": {},
   "outputs": [
    {
     "data": {
      "text/plain": [
       "False"
      ]
     },
     "execution_count": 16,
     "metadata": {},
     "output_type": "execute_result"
    }
   ],
   "source": [
    "recherche(dico, 'microprocesseur')"
   ]
  },
  {
   "cell_type": "markdown",
   "id": "132c4f32-8095-43d6-b704-5f3983c15452",
   "metadata": {},
   "source": [
    "8) Ecrire le dictionnaire panier rendant compte de la composition du panier de fruits."
   ]
  },
  {
   "attachments": {
    "beb338e3-6b03-4a41-9d8a-7e8313fd0ee2.png": {
     "image/png": "[encoded data removed]"
    }
   },
   "cell_type": "markdown",
   "id": "243a6e64-f280-4224-bdbc-f1eb5c34817d",
   "metadata": {},
   "source": [
    "![image.png](attachment:beb338e3-6b03-4a41-9d8a-7e8313fd0ee2.png)"
   ]
  },
  {
   "cell_type": "code",
   "execution_count": 17,
   "id": "db60765f-5d41-4673-97fc-7a04bb9eeb94",
   "metadata": {},
   "outputs": [],
   "source": [
    "panier={'bananes':3, 'oranges':3, 'granny':3, 'elstar':3}"
   ]
  },
  {
   "cell_type": "markdown",
   "id": "9e835256-f359-4acc-a16a-9d5a9c7c3251",
   "metadata": {
    "tags": []
   },
   "source": [
    "Ecrire une fonction ajoute_fruit (p, fruit, quantite) prenant en paramètres : un dictionnaire p décrivant un panier de fruit, le nom du fruit ajouté (type str) et le nombre de ces fruits ajoutés (type int). Cette fonction renvoie le dictionnaire p modifié."
   ]
  },
  {
   "cell_type": "code",
   "execution_count": 20,
   "id": "bab3176f-8042-4413-84df-caa4b26c3428",
   "metadata": {},
   "outputs": [],
   "source": [
    "def ajoute_fruit(p, fruit, quantite):\n",
    "    if fruit in p:\n",
    "        p[fruit]+=quantite\n",
    "    else:\n",
    "        p[fruit]=quantite"
   ]
  },
  {
   "cell_type": "markdown",
   "id": "d7ca440c-2630-4f4b-94d8-293116a0b4b7",
   "metadata": {},
   "source": [
    "Ecrire l’appel de cette fonction permettant d’ajouter 4 kiwis dans le dictionnaire panier."
   ]
  },
  {
   "cell_type": "code",
   "execution_count": 21,
   "id": "a4d8f0e6-fccd-495d-af97-db0632e802c8",
   "metadata": {},
   "outputs": [],
   "source": [
    "ajoute_fruit(panier, 'kiwis', 4)"
   ]
  },
  {
   "cell_type": "code",
   "execution_count": 23,
   "id": "76bdf962-0cdd-4981-be1c-c302c73d5f58",
   "metadata": {},
   "outputs": [
    {
     "data": {
      "text/plain": [
       "{'bananes': 3, 'oranges': 3, 'granny': 3, 'elstar': 3, 'kiwis': 4}"
      ]
     },
     "execution_count": 23,
     "metadata": {},
     "output_type": "execute_result"
    }
   ],
   "source": [
    "panier"
   ]
  },
  {
   "cell_type": "code",
   "execution_count": null,
   "id": "626a95b6-c170-4d26-99f4-29408239d957",
   "metadata": {},
   "outputs": [],
   "source": []
  }
 ],
 "metadata": {
  "kernelspec": {
   "display_name": "Python 3 (ipykernel)",
   "language": "python",
   "name": "python3"
  },
  "language_info": {
   "codemirror_mode": {
    "name": "ipython",
    "version": 3
   },
   "file_extension": ".py",
   "mimetype": "text/x-python",
   "name": "python",
   "nbconvert_exporter": "python",
   "pygments_lexer": "ipython3",
   "version": "3.9.7"
  }
 },
 "nbformat": 4,
 "nbformat_minor": 5
}
