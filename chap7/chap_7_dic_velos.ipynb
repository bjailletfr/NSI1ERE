{
 "cells": [
  {
   "cell_type": "markdown",
   "id": "0de0c7ad",
   "metadata": {},
   "source": [
    "# Gestion d'un parc de vélos\n",
    "La liste des vélos d'une ville est organisée sous forme d'un dictionnaire dans lequel :\n",
    "- la clé correspondant à un vélo est **son identifiant** (un numéro unique de type int compris entre 0 et 20000),\n",
    "- la valeur associée est une liste comprenant dans l'ordre :\n",
    "  - le **vtype** du vélo qui peut prendre la valeur 'electrique' ou 'classique',\n",
    "  - son **statut** qui peut prendre la valeur 'occupe', 'panne' ou 'dispo',\n",
    "  - sa **station** qui correspond à la station où est garé le vélo. Dans le cas où le vélo est occupé, \"station\" est alors une chaine vide."
   ]
  },
  {
   "cell_type": "code",
   "execution_count": 16,
   "id": "f50b713e",
   "metadata": {},
   "outputs": [],
   "source": [
    "velos = { 12 : ['classique', 'dispo', 'Victoria'],\n",
    "          215 : ['classique', 'dispo', 'Beaubourg'],\n",
    "          458 : ['classique', 'panne', 'Victoria'],\n",
    "          515 : ['classique', 'panne', 'Beaubourg'],\n",
    "          823 : ['classique', 'panne', 'Beaubourg'],\n",
    "          1005 : ['classique', 'occupe', ''],\n",
    "          216 : ['classique', 'occupe', ''],\n",
    "          16284 : ['electrique', 'dispo', 'Beaubourg'],\n",
    "          16285 : ['electrique', 'occupe', ''],\n",
    "          16322 : ['electrique', 'occupe', ''],\n",
    "          17558 : ['electrique', 'dispo', 'Beaubourg'] }"
   ]
  },
  {
   "cell_type": "markdown",
   "id": "ffebf185",
   "metadata": {},
   "source": [
    "Nous disposons également d'une fonction permettant de générer des fenêtres surgissantes :"
   ]
  },
  {
   "cell_type": "code",
   "execution_count": 17,
   "id": "d08a91d0",
   "metadata": {},
   "outputs": [],
   "source": [
    "import ctypes  # An included library with Python install.\n",
    "\n",
    "def Mbox(title, text):\n",
    "    print( max( 11+len(title),len(text) )*\"*\" )\n",
    "    print(\"Attention :\",title)\n",
    "    print(text)\n",
    "    print( max( 11+len(title),len(text) )*\"*\" )"
   ]
  },
  {
   "cell_type": "markdown",
   "id": "e9782308",
   "metadata": {},
   "source": [
    "**1. Ecrire une fonction get_statut (ident) prenant l’identifiant d’un vélo en paramètre et renvoyant son statut. Si l’identifiant ne correspond à aucun vélo du dictionnaire, un code d’erreur -1 est renvoyé.**"
   ]
  },
  {
   "cell_type": "code",
   "execution_count": 18,
   "id": "c7468b13",
   "metadata": {},
   "outputs": [],
   "source": [
    "def get_statut(id):\n",
    "    if id not in velos:\n",
    "        return -1\n",
    "    return velos[id][1]"
   ]
  },
  {
   "cell_type": "markdown",
   "id": "7b4eff66",
   "metadata": {},
   "source": [
    "**2. Ecrire une fonction get_pannes() permettant d’obtenir la liste des vélos qui sont en panne avec leur identifiant et la station à laquelle ils se trouvent. La structure de donnée utilisée sera une liste de tuples comme le montre l’exemple ci-dessous :**\n",
    "\n",
    ">get_pannes()\n",
    "\n",
    ">[(458, 'Victoria'), (515, 'Beaubourg'), (823, 'Beaubourg')]"
   ]
  },
  {
   "cell_type": "code",
   "execution_count": 19,
   "id": "7627fae7",
   "metadata": {},
   "outputs": [],
   "source": [
    "def get_pannes():\n",
    "    l=[]\n",
    "    for id in velos:\n",
    "        if velos[id][1]=='panne':\n",
    "            l.append((id, velos[id][2]))\n",
    "    return l"
   ]
  },
  {
   "cell_type": "markdown",
   "id": "2564ca10",
   "metadata": {},
   "source": [
    "**3. Ecrire une fonction set_velo (ident, vtype, statut, station) permettant d’ajouter un nouveau vélo dans le dictionnaire velos en donnant en paramètres son identifiant, son type, son statut et la station dans laquelle il sera déposé. Cet ajout ne sera possible que si l’identifiant n’est pas déjà présent dans le dictionnaire. Dans le cas contraire, une fenêtre pop-up signalera que le vélo n’a pas été ajouté pour cette raison.**"
   ]
  },
  {
   "cell_type": "code",
   "execution_count": 20,
   "id": "972bb919",
   "metadata": {},
   "outputs": [],
   "source": [
    "def set_velo(ident, vtype, statut, station):\n",
    "    if ident not in velos:\n",
    "        velos[ident]=[vtype,statut,station]\n",
    "    else :\n",
    "        Mbox(\"Attention\", \"Le vélo n'a pas été ajouté dans la base car son identifiant est déjà présent\")"
   ]
  },
  {
   "cell_type": "markdown",
   "id": "820e0956",
   "metadata": {},
   "source": [
    "**4. Ecrire une fonction suppr_velo(ident) permettant de supprimer un vélo du dictionnaire vélos en donnant son identifiant en paramètre. Si l’identifiant n’existe pas dans le dictionnaire, une popup le signalera.**"
   ]
  },
  {
   "cell_type": "code",
   "execution_count": 21,
   "id": "2922fd5f",
   "metadata": {},
   "outputs": [],
   "source": [
    "def suppr_velo(ident):\n",
    "    if ident in velos:\n",
    "        del velos[ident]\n",
    "    else:\n",
    "        Mbox(\"Attention\", \"L'identifiant ne correspond à aucun vélo\")"
   ]
  },
  {
   "cell_type": "markdown",
   "id": "e640010f",
   "metadata": {},
   "source": [
    "**5. Ecrire une fonction affiche_station(station) permettant d’afficher dans la console la liste l’ensemble des vélos d’une station accompagnés de leur statut. L’exécution de cette fonction pour la station Victoria donnera le résultat suivant :**\n",
    "\n",
    "> affiche_station('Victoria')\n",
    "\n",
    ">12 classique dispo\n",
    "\n",
    ">458 classique panne"
   ]
  },
  {
   "cell_type": "code",
   "execution_count": 22,
   "id": "0aa79788",
   "metadata": {},
   "outputs": [],
   "source": [
    "def affiche_station(station):\n",
    "    for ident in velos:\n",
    "        if velos[ident][2]==station:\n",
    "            print(ident, velos[ident][0], velos[ident][1] )"
   ]
  },
  {
   "cell_type": "code",
   "execution_count": null,
   "id": "f3f66027",
   "metadata": {},
   "outputs": [],
   "source": []
  }
 ],
 "metadata": {
  "kernelspec": {
   "display_name": "Python 3 (ipykernel)",
   "language": "python",
   "name": "python3"
  },
  "language_info": {
   "codemirror_mode": {
    "name": "ipython",
    "version": 3
   },
   "file_extension": ".py",
   "mimetype": "text/x-python",
   "name": "python",
   "nbconvert_exporter": "python",
   "pygments_lexer": "ipython3",
   "version": "3.9.7"
  }
 },
 "nbformat": 4,
 "nbformat_minor": 5
}
