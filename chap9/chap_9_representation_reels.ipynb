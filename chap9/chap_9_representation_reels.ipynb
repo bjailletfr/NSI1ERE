{
 "cells": [
  {
   "cell_type": "markdown",
   "id": "370e6057-b25d-438d-bbc6-3a94f4a2ee76",
   "metadata": {},
   "source": [
    "# Ecriture binaire d'un nombre réel"
   ]
  },
  {
   "cell_type": "markdown",
   "id": "f2bad234-b058-469c-bcdb-305b46b395c3",
   "metadata": {},
   "source": [
    "$ \\color{Red}{\\text{Attention : l'utilisation de nombres flottants dans les calculs va générer obligatoirement des erreurs de calcul. }}$\n",
    "\n",
    "Les résultats fournis par ce document seront donc régulièrement faux mais leur étude sera dans tous les cas intéressante. Dans le cadre d'un travail d'écriture binaire d'un nombre réel, les calculs doivent avant tout être effectués à la main et sur feuille."
   ]
  },
  {
   "cell_type": "markdown",
   "id": "b938b88b-4582-4310-8353-d1beb0061575",
   "metadata": {},
   "source": [
    "Soit un nombre réel X :"
   ]
  },
  {
   "cell_type": "code",
   "execution_count": 1,
   "id": "ff21971d-565a-4cbf-a0ad-b22c98b8eb52",
   "metadata": {},
   "outputs": [],
   "source": [
    "X=-230.6601565"
   ]
  },
  {
   "cell_type": "markdown",
   "id": "37cdd9b8-59e0-4906-957c-3e21187a3515",
   "metadata": {},
   "source": [
    "La partie entière de X notée E(X) est donc :"
   ]
  },
  {
   "cell_type": "code",
   "execution_count": 2,
   "id": "eb570ad5-42bf-4bd2-a3b4-c1f9d80b72d4",
   "metadata": {},
   "outputs": [
    {
     "name": "stdout",
     "output_type": "stream",
     "text": [
      "E(X)= 230\n"
     ]
    }
   ],
   "source": [
    "if X>0 :E=int(X)\n",
    "else:E=int(-X)\n",
    "print(\"E(X)=\",E)"
   ]
  },
  {
   "cell_type": "markdown",
   "id": "1ff704e7-6e29-4c35-ba79-61540b8d5b3a",
   "metadata": {},
   "source": [
    "Commençons par convertir cette partie entière en binaire :"
   ]
  },
  {
   "cell_type": "code",
   "execution_count": 3,
   "id": "481d9aa6-eb2f-4c8b-b949-8f904f42721b",
   "metadata": {},
   "outputs": [
    {
     "name": "stdout",
     "output_type": "stream",
     "text": [
      "E(2)= 11100110\n"
     ]
    }
   ],
   "source": [
    "E_bin=format(E,\"b\")\n",
    "print(\"E(2)=\",E_bin)"
   ]
  },
  {
   "cell_type": "markdown",
   "id": "0779af51-de54-4f52-9253-2f60c0d70a15",
   "metadata": {},
   "source": [
    "La partie fractionnaire de X notée F(X) est donc X-E(X) soit :"
   ]
  },
  {
   "cell_type": "code",
   "execution_count": 4,
   "id": "77807eca-1641-4d5d-b4ab-0352aeac9f59",
   "metadata": {},
   "outputs": [
    {
     "name": "stdout",
     "output_type": "stream",
     "text": [
      "F(X)= 0.6601564999999994\n"
     ]
    }
   ],
   "source": [
    "if X>0 :F=X-E\n",
    "else:F=(-X)-E\n",
    "print(\"F(X)=\",F)"
   ]
  },
  {
   "cell_type": "markdown",
   "id": "5ccf576a-57bc-44e1-b159-6c503f67273c",
   "metadata": {},
   "source": [
    "Pour convertir la partie fractionnaire en binaire, on utilise la méthode des multiplications successives. Pour cela, une fonction **multi_success(n)** est écrite. Les plus avancés pourront s'intéresser à la compréhension de cette fonction."
   ]
  },
  {
   "cell_type": "code",
   "execution_count": 5,
   "id": "c0eba19b-368c-402a-8ea1-a25909743dcb",
   "metadata": {},
   "outputs": [],
   "source": [
    "def multi_success(n):\n",
    "    frac_bin=\"\"\n",
    "    while n!=0:\n",
    "        print(n)\n",
    "        n*=2\n",
    "        if n>=1:\n",
    "            print(n,\">1\",\"donc n-1\")\n",
    "            n-=1\n",
    "            frac_bin+=\"1\"\n",
    "        else:\n",
    "            print(n,\"<1\",\"donc 2n\")\n",
    "            frac_bin+=\"0\"\n",
    "    return(\"0,\"+frac_bin)"
   ]
  },
  {
   "cell_type": "code",
   "execution_count": 6,
   "id": "adc10e33-7605-4621-8ff6-cae09b80a1ef",
   "metadata": {},
   "outputs": [
    {
     "name": "stdout",
     "output_type": "stream",
     "text": [
      "0.6601564999999994\n",
      "1.3203129999999987 >1 donc n-1\n",
      "0.32031299999999874\n",
      "0.6406259999999975 <1 donc 2n\n",
      "0.6406259999999975\n",
      "1.281251999999995 >1 donc n-1\n",
      "0.28125199999999495\n",
      "0.5625039999999899 <1 donc 2n\n",
      "0.5625039999999899\n",
      "1.1250079999999798 >1 donc n-1\n",
      "0.1250079999999798\n",
      "0.2500159999999596 <1 donc 2n\n",
      "0.2500159999999596\n",
      "0.5000319999999192 <1 donc 2n\n",
      "0.5000319999999192\n",
      "1.0000639999998384 >1 donc n-1\n",
      "6.399999983841553e-05\n",
      "0.00012799999967683107 <1 donc 2n\n",
      "0.00012799999967683107\n",
      "0.00025599999935366213 <1 donc 2n\n",
      "0.00025599999935366213\n",
      "0.0005119999987073243 <1 donc 2n\n",
      "0.0005119999987073243\n",
      "0.0010239999974146485 <1 donc 2n\n",
      "0.0010239999974146485\n",
      "0.002047999994829297 <1 donc 2n\n",
      "0.002047999994829297\n",
      "0.004095999989658594 <1 donc 2n\n",
      "0.004095999989658594\n",
      "0.008191999979317188 <1 donc 2n\n",
      "0.008191999979317188\n",
      "0.016383999958634377 <1 donc 2n\n",
      "0.016383999958634377\n",
      "0.03276799991726875 <1 donc 2n\n",
      "0.03276799991726875\n",
      "0.0655359998345375 <1 donc 2n\n",
      "0.0655359998345375\n",
      "0.131071999669075 <1 donc 2n\n",
      "0.131071999669075\n",
      "0.26214399933815 <1 donc 2n\n",
      "0.26214399933815\n",
      "0.5242879986763 <1 donc 2n\n",
      "0.5242879986763\n",
      "1.0485759973526 >1 donc n-1\n",
      "0.0485759973526001\n",
      "0.0971519947052002 <1 donc 2n\n",
      "0.0971519947052002\n",
      "0.1943039894104004 <1 donc 2n\n",
      "0.1943039894104004\n",
      "0.3886079788208008 <1 donc 2n\n",
      "0.3886079788208008\n",
      "0.7772159576416016 <1 donc 2n\n",
      "0.7772159576416016\n",
      "1.5544319152832031 >1 donc n-1\n",
      "0.5544319152832031\n",
      "1.1088638305664062 >1 donc n-1\n",
      "0.10886383056640625\n",
      "0.2177276611328125 <1 donc 2n\n",
      "0.2177276611328125\n",
      "0.435455322265625 <1 donc 2n\n",
      "0.435455322265625\n",
      "0.87091064453125 <1 donc 2n\n",
      "0.87091064453125\n",
      "1.7418212890625 >1 donc n-1\n",
      "0.7418212890625\n",
      "1.483642578125 >1 donc n-1\n",
      "0.483642578125\n",
      "0.96728515625 <1 donc 2n\n",
      "0.96728515625\n",
      "1.9345703125 >1 donc n-1\n",
      "0.9345703125\n",
      "1.869140625 >1 donc n-1\n",
      "0.869140625\n",
      "1.73828125 >1 donc n-1\n",
      "0.73828125\n",
      "1.4765625 >1 donc n-1\n",
      "0.4765625\n",
      "0.953125 <1 donc 2n\n",
      "0.953125\n",
      "1.90625 >1 donc n-1\n",
      "0.90625\n",
      "1.8125 >1 donc n-1\n",
      "0.8125\n",
      "1.625 >1 donc n-1\n",
      "0.625\n",
      "1.25 >1 donc n-1\n",
      "0.25\n",
      "0.5 <1 donc 2n\n",
      "0.5\n",
      "1.0 >1 donc n-1\n",
      "F(2)= 0,101010010000000000000100001100011011110111101\n"
     ]
    }
   ],
   "source": [
    "F_bin=multi_success(F)\n",
    "print(\"F(2)=\",F_bin)"
   ]
  },
  {
   "cell_type": "markdown",
   "id": "0a55c2b4-4fcf-4797-bdfe-4e9a908a5e58",
   "metadata": {},
   "source": [
    "### L'écriture binaire du nombre X est donc :"
   ]
  },
  {
   "cell_type": "code",
   "execution_count": 7,
   "id": "3513eefa-cb8e-4935-9ff7-8e8d4182c304",
   "metadata": {},
   "outputs": [
    {
     "name": "stdout",
     "output_type": "stream",
     "text": [
      "X(2)= 11100110,101010010000000000000100001100011011110111101\n"
     ]
    }
   ],
   "source": [
    "print(\"X(2)=\",E_bin+F_bin[1:])"
   ]
  },
  {
   "cell_type": "markdown",
   "id": "f281b178-fdb9-491c-babc-fea074f4387a",
   "metadata": {
    "tags": []
   },
   "source": [
    "# Quelle est la représentation en machine de ce nombre en 32 bits ?"
   ]
  },
  {
   "cell_type": "markdown",
   "id": "f90b3c2d-20b9-4335-809b-c140d203442c",
   "metadata": {
    "tags": []
   },
   "source": [
    "Ecrivons ce nombre en utilsant l'exposant et la mantisse :"
   ]
  },
  {
   "cell_type": "code",
   "execution_count": 8,
   "id": "ffa08b38-a388-48db-b412-911b1c917362",
   "metadata": {
    "tags": []
   },
   "outputs": [
    {
     "name": "stdout",
     "output_type": "stream",
     "text": [
      "L'exposant est e= 7\n",
      "La mantisse est m= 1100110101010010000000000000100001100011011110111101\n"
     ]
    }
   ],
   "source": [
    "e=len(E_bin)-1\n",
    "print(\"L'exposant est e=\",e)\n",
    "m=E_bin[1:]+F_bin[2:]\n",
    "print(\"La mantisse est m=\",m)"
   ]
  },
  {
   "cell_type": "markdown",
   "id": "6ac0bcb5-7364-4e78-af73-eb98e6999969",
   "metadata": {},
   "source": [
    "On ajoute le biais de 127 à l'exposant qui, au total, est codé sur 8 bits :"
   ]
  },
  {
   "cell_type": "code",
   "execution_count": 9,
   "id": "4bb657ca-612a-4337-b422-c7171af67570",
   "metadata": {
    "tags": []
   },
   "outputs": [
    {
     "name": "stdout",
     "output_type": "stream",
     "text": [
      "L'exposant biaisé est donc de 134\n"
     ]
    }
   ],
   "source": [
    "e_biais=e+127\n",
    "print(\"L'exposant biaisé est donc de\",e_biais)"
   ]
  },
  {
   "cell_type": "markdown",
   "id": "4a7ca18f-a453-42da-b5f0-58066926ad09",
   "metadata": {},
   "source": [
    "Construisons maintenant la représentation complète du nombre X sur 32 bits.\n",
    "\n",
    "Etape n°1, le bit de signe :"
   ]
  },
  {
   "cell_type": "code",
   "execution_count": 10,
   "id": "5a986cda-6bf7-4e1e-bec2-1af4cc263ad5",
   "metadata": {
    "tags": []
   },
   "outputs": [
    {
     "name": "stdout",
     "output_type": "stream",
     "text": [
      "1\n"
     ]
    }
   ],
   "source": [
    "representation32=\"\"\n",
    "if X>0 : bit_signe=\"0\"\n",
    "else : bit_signe=\"1\"\n",
    "representation32+=bit_signe\n",
    "print(representation32)"
   ]
  },
  {
   "cell_type": "markdown",
   "id": "f466b17d-b8ef-401c-a91c-6684ff3a66db",
   "metadata": {
    "tags": []
   },
   "source": [
    "Etape n°2, convertissons l'exposant biaisé en binaire sur 8 bits et ajoutons ces 8 bits au bit de signe pour compléter la représentation du nombre :"
   ]
  },
  {
   "cell_type": "code",
   "execution_count": 11,
   "id": "7f3b1fbb-d788-4b05-819f-8297ea45f21f",
   "metadata": {},
   "outputs": [
    {
     "name": "stdout",
     "output_type": "stream",
     "text": [
      "110000110\n"
     ]
    }
   ],
   "source": [
    "e_bin=format(e_biais,'08b')\n",
    "representation32+=e_bin\n",
    "print(representation32)"
   ]
  },
  {
   "cell_type": "markdown",
   "id": "3f907397-3789-4a67-b733-e67c698186c0",
   "metadata": {},
   "source": [
    "Etape n°3 : ajoutons la mantisse codée obligatoirement sur 23 bits. Si la longueur de la mantisse est inférieure à 23 bits, on la complète avec des 0. Dans le cas contraire, elle est tronquée."
   ]
  },
  {
   "cell_type": "code",
   "execution_count": 12,
   "id": "f797c3d7-0a6a-4d1c-85ad-8a348a334b33",
   "metadata": {
    "tags": []
   },
   "outputs": [
    {
     "name": "stdout",
     "output_type": "stream",
     "text": [
      "11000011011001101010100100000000   Sur 32 bits\n"
     ]
    }
   ],
   "source": [
    "if len(m)<23:\n",
    "    while len(m)<23: m+=\"0\"\n",
    "elif len(m)>23:\n",
    "    m=m[:23]\n",
    "representation32+=m\n",
    "print(representation32, end=\"   \")\n",
    "print(\"Sur\",len(representation32),\"bits\")"
   ]
  },
  {
   "cell_type": "markdown",
   "id": "f61d0b57-ba17-4585-8138-8303ba6223a2",
   "metadata": {},
   "source": [
    "# Quelle est la représentation en machine de ce nombre en 64 bits ?"
   ]
  },
  {
   "cell_type": "markdown",
   "id": "d94d4d11-11d3-46a0-9288-c6f1ed12bab2",
   "metadata": {
    "tags": []
   },
   "source": [
    "Ecrivons ce nombre en utilsant l'exposant et la mantisse :"
   ]
  },
  {
   "cell_type": "code",
   "execution_count": 13,
   "id": "95355579-36a1-4ae1-8505-b418d28c3372",
   "metadata": {
    "tags": []
   },
   "outputs": [
    {
     "name": "stdout",
     "output_type": "stream",
     "text": [
      "L'exposant est e= 7\n",
      "La mantisse est m= 1100110101010010000000000000100001100011011110111101\n"
     ]
    }
   ],
   "source": [
    "e=len(E_bin)-1\n",
    "print(\"L'exposant est e=\",e)\n",
    "m=E_bin[1:]+F_bin[2:]\n",
    "print(\"La mantisse est m=\",m)"
   ]
  },
  {
   "cell_type": "markdown",
   "id": "3c800881-9a0b-4b04-9c3a-0cee2cd816d2",
   "metadata": {},
   "source": [
    "On ajoute le biais de 1023 à l'exposant qui, au total, est codé sur 11 bits :"
   ]
  },
  {
   "cell_type": "code",
   "execution_count": 14,
   "id": "972028f4-e650-4c09-ba17-1b7822b6dfca",
   "metadata": {
    "tags": []
   },
   "outputs": [
    {
     "name": "stdout",
     "output_type": "stream",
     "text": [
      "L'exposant biaisé est donc de 1030\n"
     ]
    }
   ],
   "source": [
    "e_biais=e+1023\n",
    "print(\"L'exposant biaisé est donc de\",e_biais)"
   ]
  },
  {
   "cell_type": "markdown",
   "id": "eeed2ffa-4b3d-496e-acae-e66fa79ff589",
   "metadata": {},
   "source": [
    "Construisons maintenant la représentation complète du nombre X sur 32 bits.\n",
    "\n",
    "Etape n°1, le bit de signe :"
   ]
  },
  {
   "cell_type": "code",
   "execution_count": 15,
   "id": "d0d2c8ac-e938-4655-894f-cbc765ee094e",
   "metadata": {
    "tags": []
   },
   "outputs": [
    {
     "name": "stdout",
     "output_type": "stream",
     "text": [
      "1\n"
     ]
    }
   ],
   "source": [
    "representation64=\"\"\n",
    "if X>0 : bit_signe=\"0\"\n",
    "else : bit_signe=\"1\"\n",
    "representation64+=bit_signe\n",
    "print(representation64)"
   ]
  },
  {
   "cell_type": "markdown",
   "id": "8b10ba69-d776-4776-a777-cb0b8705ad6e",
   "metadata": {
    "tags": []
   },
   "source": [
    "Etape n°2, convertissons l'exposant biaisé en binaire sur 11 bits et ajoutons ces 11 bits au bit de signe pour compléter la représentation du nombre :"
   ]
  },
  {
   "cell_type": "code",
   "execution_count": 16,
   "id": "2396d848-5381-44af-8402-c5d74cdb1d9b",
   "metadata": {},
   "outputs": [
    {
     "name": "stdout",
     "output_type": "stream",
     "text": [
      "110000000110\n"
     ]
    }
   ],
   "source": [
    "e_bin=format(e_biais,'011b')\n",
    "representation64+=e_bin\n",
    "print(representation64)"
   ]
  },
  {
   "cell_type": "markdown",
   "id": "f167ff45-e062-408d-8844-6d10631ac6c0",
   "metadata": {},
   "source": [
    "Etape n°3 : ajoutons la mantisse codée obligatoirement sur 52 bits. Si la longueur de la mantisse est inférieure à 52 bits, on la complète avec des 0. Dans le cas contraire, elle est tronquée."
   ]
  },
  {
   "cell_type": "code",
   "execution_count": 17,
   "id": "a5a6065e-8deb-4035-b16b-370d098c6c70",
   "metadata": {
    "tags": []
   },
   "outputs": [
    {
     "name": "stdout",
     "output_type": "stream",
     "text": [
      "1100000001101100110101010010000000000000100001100011011110111101   Sur 64 bits\n"
     ]
    }
   ],
   "source": [
    "if len(m)<52:\n",
    "    while len(m)<52: m+=\"0\"\n",
    "elif len(m)>52:\n",
    "    m=m[:52]\n",
    "representation64+=m\n",
    "print(representation64, end=\"   \")\n",
    "print(\"Sur\",len(representation64),\"bits\")"
   ]
  }
 ],
 "metadata": {
  "kernelspec": {
   "display_name": "Python 3 (ipykernel)",
   "language": "python",
   "name": "python3"
  },
  "language_info": {
   "codemirror_mode": {
    "name": "ipython",
    "version": 3
   },
   "file_extension": ".py",
   "mimetype": "text/x-python",
   "name": "python",
   "nbconvert_exporter": "python",
   "pygments_lexer": "ipython3",
   "version": "3.9.7"
  }
 },
 "nbformat": 4,
 "nbformat_minor": 5
}
