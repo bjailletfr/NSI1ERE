{
 "cells": [
  {
   "cell_type": "markdown",
   "id": "d9b472cb",
   "metadata": {},
   "source": [
    "# Ecriture binaire d'un nombre réel"
   ]
  },
  {
   "cell_type": "markdown",
   "id": "f9318c87",
   "metadata": {},
   "source": [
    "Soit un nombre réel X :"
   ]
  },
  {
   "cell_type": "code",
   "execution_count": 2,
   "id": "75dd9e5c",
   "metadata": {},
   "outputs": [],
   "source": [
    "X=12.375"
   ]
  },
  {
   "cell_type": "markdown",
   "id": "f2fdbd56",
   "metadata": {},
   "source": [
    "La partie entière de X notée E(X) est donc :"
   ]
  },
  {
   "cell_type": "code",
   "execution_count": 3,
   "id": "6df4431a",
   "metadata": {},
   "outputs": [
    {
     "name": "stdout",
     "output_type": "stream",
     "text": [
      "E(X)= 12\n"
     ]
    }
   ],
   "source": [
    "E=int(X)\n",
    "print(\"E(X)=\",E)"
   ]
  },
  {
   "cell_type": "markdown",
   "id": "d10ed166",
   "metadata": {},
   "source": [
    "Commençons par convertir cette partie entière en binaire :"
   ]
  },
  {
   "cell_type": "code",
   "execution_count": 4,
   "id": "7be3384a",
   "metadata": {},
   "outputs": [
    {
     "name": "stdout",
     "output_type": "stream",
     "text": [
      "E(2)= 1100\n"
     ]
    }
   ],
   "source": [
    "E_bin=format(E,\"b\")\n",
    "print(\"E(2)=\",E_bin)"
   ]
  },
  {
   "cell_type": "markdown",
   "id": "ffb57b71",
   "metadata": {},
   "source": [
    "La partie fractionnaire de X notée F(X) est donc X-E(X) soit :"
   ]
  },
  {
   "cell_type": "code",
   "execution_count": 5,
   "id": "864df382",
   "metadata": {},
   "outputs": [
    {
     "name": "stdout",
     "output_type": "stream",
     "text": [
      "F(X)= 0.375\n"
     ]
    }
   ],
   "source": [
    "F=X-E\n",
    "print(\"F(X)=\",F)"
   ]
  },
  {
   "cell_type": "markdown",
   "id": "c43c070c",
   "metadata": {},
   "source": [
    "Pour convertir la partie fractionnaire en binaire, on utilise la méthode des multiplications successives. Pour cela, une fonction **multi_success(n)** est écrite. Les plus avancés pourront s'intéresser à la compréhension de cette fonction."
   ]
  },
  {
   "cell_type": "code",
   "execution_count": 6,
   "id": "2e66b8a5",
   "metadata": {},
   "outputs": [],
   "source": [
    "def multi_success(n):\n",
    "    frac_bin=\"\"\n",
    "    while n!=0:\n",
    "        print(n)\n",
    "        n*=2\n",
    "        if n>=1:\n",
    "            print(n,\">1\",\"donc n-1\")\n",
    "            n-=1\n",
    "            frac_bin+=\"1\"\n",
    "        else:\n",
    "            print(n,\"<1\",\"donc 2n\")\n",
    "            frac_bin+=\"0\"\n",
    "    return(\"0,\"+frac_bin)"
   ]
  },
  {
   "cell_type": "markdown",
   "id": "484bc6a6",
   "metadata": {},
   "source": [
    "$ \\color{Red}{\\text{Attention : l'utilisation de nombres flottants dans les calculs va générer obligatoirement des erreurs de calcul. }}$\n",
    "\n",
    "Les résultats fournis par ce document seront donc régulièrement faux mais leur étude sera dans tous les cas intéressante. Dans le cadre d'un travail d'écriture binaire d'un nombre réel, les calculs doivent avant tout être effectués à la main et sur feuille."
   ]
  },
  {
   "cell_type": "code",
   "execution_count": 7,
   "id": "93463d25",
   "metadata": {
    "scrolled": true
   },
   "outputs": [
    {
     "name": "stdout",
     "output_type": "stream",
     "text": [
      "0.375\n",
      "0.75 <1 donc 2n\n",
      "0.75\n",
      "1.5 >1 donc n-1\n",
      "0.5\n",
      "1.0 >1 donc n-1\n",
      "F(2)= 0,011\n"
     ]
    }
   ],
   "source": [
    "F_bin=multi_success(F)\n",
    "print(\"F(2)=\",F_bin)"
   ]
  },
  {
   "cell_type": "markdown",
   "id": "09d8698b",
   "metadata": {},
   "source": [
    "### L'écriture binaire du nombre X est donc :"
   ]
  },
  {
   "cell_type": "code",
   "execution_count": 8,
   "id": "2b654b67",
   "metadata": {
    "scrolled": true
   },
   "outputs": [
    {
     "name": "stdout",
     "output_type": "stream",
     "text": [
      "X(2)= 1100,011\n"
     ]
    }
   ],
   "source": [
    "print(\"X(2)=\",E_bin+F_bin[1:])"
   ]
  }
 ],
 "metadata": {
  "kernelspec": {
   "display_name": "Python 3 (ipykernel)",
   "language": "python",
   "name": "python3"
  },
  "language_info": {
   "codemirror_mode": {
    "name": "ipython",
    "version": 3
   },
   "file_extension": ".py",
   "mimetype": "text/x-python",
   "name": "python",
   "nbconvert_exporter": "python",
   "pygments_lexer": "ipython3",
   "version": "3.9.7"
  }
 },
 "nbformat": 4,
 "nbformat_minor": 5
}
